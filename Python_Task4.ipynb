{
  "nbformat": 4,
  "nbformat_minor": 0,
  "metadata": {
    "colab": {
      "provenance": [],
      "authorship_tag": "ABX9TyM5efTFi1OTizOwyAhDOo+n",
      "include_colab_link": true
    },
    "kernelspec": {
      "name": "python3",
      "display_name": "Python 3"
    },
    "language_info": {
      "name": "python"
    }
  },
  "cells": [
    {
      "cell_type": "markdown",
      "metadata": {
        "id": "view-in-github",
        "colab_type": "text"
      },
      "source": [
        "<a href=\"https://colab.research.google.com/github/hameedk1/Entry/blob/main/Python_Task4.ipynb\" target=\"_parent\"><img src=\"https://colab.research.google.com/assets/colab-badge.svg\" alt=\"Open In Colab\"/></a>"
      ]
    },
    {
      "cell_type": "markdown",
      "source": [
        "Exercise 1: Create a function with a default argument\n",
        "Write a program to create a function show_employee() using the following conditions.\n",
        "It should accept the employee’s name and salary and display both.\n",
        "If the salary is missing in the function call then assign default value 9000 to salary"
      ],
      "metadata": {
        "id": "Ia5sDQfpzc8m"
      }
    },
    {
      "cell_type": "code",
      "execution_count": null,
      "metadata": {
        "colab": {
          "base_uri": "https://localhost:8080/"
        },
        "id": "j8anG98esB2r",
        "outputId": "db80ccd5-8242-45a0-9576-771f8619367d"
      },
      "outputs": [
        {
          "output_type": "stream",
          "name": "stdout",
          "text": [
            "Employee Name: Jhon Doe\n",
            "Employee Salary: 10000\n",
            "Employee Name: jhon Doe\n",
            "Employee Salary: 9000\n"
          ]
        }
      ],
      "source": [
        "def show_employee(name,salary=9000):\n",
        "  print(\"Employee Name:\",name)\n",
        "  print(\"Employee Salary:\",salary)\n",
        "  # Test the function with different scenarios\n",
        "show_employee(\"Jhon Doe\",10000)# Providing both name and salary\n",
        "show_employee(\"jhon Doe\")# Providing only name, salary defaults to 9000\n"
      ]
    },
    {
      "cell_type": "markdown",
      "source": [
        "Exercise 2: Create an inner function to calculate the addition in the following way\n",
        "Create an outer function that will accept two parameters, a and b\n",
        "Create an inner function inside an outer function that will calculate the addition of a and b\n",
        "At last, an outer function will add 5 into addition and return it\n"
      ],
      "metadata": {
        "id": "NiG2GKx5z2ne"
      }
    },
    {
      "cell_type": "code",
      "source": [
        "def outer_function(a,b):\n",
        "  def inner_function():\n",
        "    return a+b\n",
        "  addition=inner_function()+5\n",
        "  return addition\n",
        "# Test the outer function\n",
        "result=outer_function(10,20)\n",
        "print(\"Result after addtion:\",result)# Output: 35 (10 + 20 + 5)"
      ],
      "metadata": {
        "colab": {
          "base_uri": "https://localhost:8080/"
        },
        "id": "PsY3l5adwRIS",
        "outputId": "324501d1-c1f4-4fce-c959-4f0a04806aa7"
      },
      "execution_count": null,
      "outputs": [
        {
          "output_type": "stream",
          "name": "stdout",
          "text": [
            "Result after addtion: 35\n"
          ]
        }
      ]
    },
    {
      "cell_type": "markdown",
      "source": [
        "Exercise 3: Generate a Python list of all the even numbers between 4 to 30"
      ],
      "metadata": {
        "id": "9u3tHBBkz-re"
      }
    },
    {
      "cell_type": "code",
      "source": [
        "even_numbers=[num for num in range(4,31) if num % 2 == 0]\n",
        "print(even_numbers)"
      ],
      "metadata": {
        "colab": {
          "base_uri": "https://localhost:8080/"
        },
        "id": "XjTZpJm70D_V",
        "outputId": "64482e11-2c5b-4466-c96a-79e343501bbf"
      },
      "execution_count": null,
      "outputs": [
        {
          "output_type": "stream",
          "name": "stdout",
          "text": [
            "[4, 6, 8, 10, 12, 14, 16, 18, 20, 22, 24, 26, 28, 30]\n"
          ]
        }
      ]
    },
    {
      "cell_type": "code",
      "source": [],
      "metadata": {
        "id": "t-ZOJ2AP0waW"
      },
      "execution_count": null,
      "outputs": []
    },
    {
      "cell_type": "markdown",
      "source": [
        "Lambda Function to Check if value is in a List\n",
        "Given a list, the task is to write a Python program to check if the value exists in the list or not using the lambda function.\n"
      ],
      "metadata": {
        "id": "aDIXJIrvtTCN"
      }
    },
    {
      "cell_type": "code",
      "source": [
        "# List of Values\n",
        "my_list = [10,20,30,40,50]\n",
        "# Lambda function to check if a value exists in the list\n",
        "check_value = lambda x: any(x == item for item in my_list)\n",
        "# Test cases\n",
        "print(check_value(30))\n",
        "print(check_value(15))\n",
        "print(check_value(50))"
      ],
      "metadata": {
        "colab": {
          "base_uri": "https://localhost:8080/"
        },
        "id": "NXyahssvtnpm",
        "outputId": "61d48691-c04f-44f3-aeae-aa9913be8998"
      },
      "execution_count": null,
      "outputs": [
        {
          "output_type": "stream",
          "name": "stdout",
          "text": [
            "True\n",
            "False\n",
            "True\n"
          ]
        }
      ]
    },
    {
      "cell_type": "markdown",
      "source": [
        "Exercise 5: Sort list of tuples with their sum"
      ],
      "metadata": {
        "id": "Zr7cfv8cxKeY"
      }
    },
    {
      "cell_type": "code",
      "source": [
        "# List of tuples\n",
        "list_of_tuples=[(1,4),(3,6),(2,8),(5,3)]\n",
        "# Sort the list of tuples based on the sum of elements in each tuple\n",
        "sorted_list = sorted(list_of_tuples, key = lambda x:sum(x))\n",
        "# Print the sorted list\n",
        "print(sorted_list)"
      ],
      "metadata": {
        "colab": {
          "base_uri": "https://localhost:8080/"
        },
        "id": "t7QrkT5mxQ8x",
        "outputId": "0d6896b7-ff57-4285-bb47-f7e9cc652f8a"
      },
      "execution_count": null,
      "outputs": [
        {
          "output_type": "stream",
          "name": "stdout",
          "text": [
            "[(1, 4), (5, 3), (3, 6), (2, 8)]\n"
          ]
        }
      ]
    },
    {
      "cell_type": "markdown",
      "source": [
        "Exercise 6 :\n",
        "Write a python function, which will find all such numbers between 1000 and 3000 (both included) such that each digit of the number is an even number. Return the results as a list\n"
      ],
      "metadata": {
        "id": "V8Jr78Zfz2t-"
      }
    },
    {
      "cell_type": "code",
      "source": [
        "def find_even_digit_numbers():\n",
        "# Initialize an empty list to store the result\n",
        "    result = []\n",
        "# Iterate through numbers from 1000 to 3000\n",
        "    for num in range(1000,3001):\n",
        "      # Convert the number to a string for digit-wise manipulation\n",
        "      num_str = str(num)\n",
        "      # Check if all digits in the number are even\n",
        "      if all(int(digit) % 2 == 0 for digit in num_str):\n",
        "        result.append(num)\n",
        "    return result\n",
        "        # Call the function and store the result\n",
        "even_digit_numbers = find_even_digit_numbers()\n",
        "# Print the list of numbers where each digit is even\n",
        "print(even_digit_numbers)"
      ],
      "metadata": {
        "colab": {
          "base_uri": "https://localhost:8080/"
        },
        "id": "bCiJdrgMypq-",
        "outputId": "3c63181a-347c-4e5b-b377-51b3df325d7d"
      },
      "execution_count": null,
      "outputs": [
        {
          "output_type": "stream",
          "name": "stdout",
          "text": [
            "[2000, 2002, 2004, 2006, 2008, 2020, 2022, 2024, 2026, 2028, 2040, 2042, 2044, 2046, 2048, 2060, 2062, 2064, 2066, 2068, 2080, 2082, 2084, 2086, 2088, 2200, 2202, 2204, 2206, 2208, 2220, 2222, 2224, 2226, 2228, 2240, 2242, 2244, 2246, 2248, 2260, 2262, 2264, 2266, 2268, 2280, 2282, 2284, 2286, 2288, 2400, 2402, 2404, 2406, 2408, 2420, 2422, 2424, 2426, 2428, 2440, 2442, 2444, 2446, 2448, 2460, 2462, 2464, 2466, 2468, 2480, 2482, 2484, 2486, 2488, 2600, 2602, 2604, 2606, 2608, 2620, 2622, 2624, 2626, 2628, 2640, 2642, 2644, 2646, 2648, 2660, 2662, 2664, 2666, 2668, 2680, 2682, 2684, 2686, 2688, 2800, 2802, 2804, 2806, 2808, 2820, 2822, 2824, 2826, 2828, 2840, 2842, 2844, 2846, 2848, 2860, 2862, 2864, 2866, 2868, 2880, 2882, 2884, 2886, 2888]\n"
          ]
        }
      ]
    },
    {
      "cell_type": "markdown",
      "source": [
        "Exercise 7 :\n",
        "Write a python function that accepts a sentence and calculate and return the number of letters and digits.\n",
        "Suppose the following input is supplied to the program:\n",
        "hello world! 123\n",
        "Then, the output should be:\n",
        "LETTERS 10\n",
        "DIGITS 3\n"
      ],
      "metadata": {
        "id": "t26YVVvn5es-"
      }
    },
    {
      "cell_type": "code",
      "source": [
        "def count_letters_digits(sentence):\n",
        "  # Initialize counters for letters and digits\n",
        "  num_letters = 0\n",
        "  num_digits = 0\n",
        "  # Iterate through each character in the sentence\n",
        "  for char in sentence:\n",
        "    # Check if the character is a letter using isalpha()\n",
        "    if char.isalpha():\n",
        "      num_letters += 1\n",
        "      # Check if the character is a digit using isdigit()\n",
        "    elif char.isdigit():\n",
        "      num_digits +=1\n",
        "      # Return the counts of letters and digits\n",
        "  return num_letters,num_digits\n",
        "# Example usage\n",
        "input_sentence = \"hello world! 122\"\n",
        "letters,digits = count_letters_digits(input_sentence)\n",
        "print(f\"LETTERS{letters} DIGITS{digits}\")\n"
      ],
      "metadata": {
        "colab": {
          "base_uri": "https://localhost:8080/"
        },
        "id": "aW8bdMCh5xiG",
        "outputId": "0a3e9bc6-4566-4c6f-e7b9-44e87bbbab01"
      },
      "execution_count": null,
      "outputs": [
        {
          "output_type": "stream",
          "name": "stdout",
          "text": [
            "LETTERS10 DIGITS3\n"
          ]
        }
      ]
    },
    {
      "cell_type": "markdown",
      "source": [
        "Exercise 8  MAP:\n",
        "Write a Python program to convert all the characters into uppercase and lowercase and eliminate duplicate letters from a given sequence. Use the map() function\n"
      ],
      "metadata": {
        "id": "Zm4nLKJW5F0n"
      }
    },
    {
      "cell_type": "code",
      "source": [
        "def process_sequence(sequence):\n",
        "    # Convert all characters to uppercase and lowercase\n",
        "    uppercased = list(map(str.upper, sequence))\n",
        "    lowercased = list(map(str.lower, sequence))\n",
        "\n",
        "    # Merge the lists and remove duplicates\n",
        "    merged = uppercased + lowercased\n",
        "    unique_characters = list(set(merged))\n",
        "\n",
        "    # Join the unique characters into a string\n",
        "    result = ''.join(unique_characters)\n",
        "    return result\n",
        "\n",
        "# Example usage\n",
        "input_sequence = \"Hello World\"\n",
        "processed_sequence = process_sequence(input_sequence)\n",
        "print(processed_sequence)"
      ],
      "metadata": {
        "colab": {
          "base_uri": "https://localhost:8080/"
        },
        "id": "gKskWvI35I5m",
        "outputId": "4a4a9954-01f6-4238-b0d1-4518dd90a04f"
      },
      "execution_count": null,
      "outputs": [
        {
          "output_type": "stream",
          "name": "stdout",
          "text": [
            " LdODhRHrWoElwe\n"
          ]
        }
      ]
    },
    {
      "cell_type": "markdown",
      "source": [
        "Exercise 9 MAP:\n",
        " Write a Python program to element wise add two given lists and find the difference between them. Use the map() function\n"
      ],
      "metadata": {
        "id": "Y-BBF_Xk89K4"
      }
    },
    {
      "cell_type": "code",
      "source": [
        "def add_and_find_difference(list1,list2):\n",
        "  # Perform element-wise addition using map() and zip()\n",
        "  sum_list"
      ],
      "metadata": {
        "id": "O_T3QMEvfFve"
      },
      "execution_count": null,
      "outputs": []
    },
    {
      "cell_type": "code",
      "source": [],
      "metadata": {
        "id": "WTqTUryo9IiO"
      },
      "execution_count": null,
      "outputs": []
    }
  ]
}